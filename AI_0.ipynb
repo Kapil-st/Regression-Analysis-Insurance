{
  "nbformat": 4,
  "nbformat_minor": 0,
  "metadata": {
    "colab": {
      "provenance": [],
      "gpuType": "T4",
      "authorship_tag": "ABX9TyNOjwimfZFXbRefpPgUjgro",
      "include_colab_link": true
    },
    "kernelspec": {
      "name": "python3",
      "display_name": "Python 3"
    },
    "language_info": {
      "name": "python"
    },
    "accelerator": "GPU"
  },
  "cells": [
    {
      "cell_type": "markdown",
      "metadata": {
        "id": "view-in-github",
        "colab_type": "text"
      },
      "source": [
        "<a href=\"https://colab.research.google.com/github/Kapil-st/Regression-Analysis-Insurance/blob/main/AI_0.ipynb\" target=\"_parent\"><img src=\"https://colab.research.google.com/assets/colab-badge.svg\" alt=\"Open In Colab\"/></a>"
      ]
    },
    {
      "cell_type": "markdown",
      "source": [
        "# This is Heading\n"
      ],
      "metadata": {
        "id": "-HlpzZ3RqoBi"
      }
    },
    {
      "cell_type": "code",
      "source": [
        "! wget https://raw.githubusercontent.com/jbrownlee/Datasets/master/shampoo.csv"
      ],
      "metadata": {
        "colab": {
          "base_uri": "https://localhost:8080/"
        },
        "id": "NHDiIH2Wr1Rv",
        "outputId": "1f4fa400-bddd-4f55-f4c1-40ac84157eb3"
      },
      "execution_count": null,
      "outputs": [
        {
          "output_type": "stream",
          "name": "stdout",
          "text": [
            "--2024-02-15 02:53:55--  https://raw.githubusercontent.com/jbrownlee/Datasets/master/shampoo.csv\n",
            "Resolving raw.githubusercontent.com (raw.githubusercontent.com)... 185.199.108.133, 185.199.109.133, 185.199.110.133, ...\n",
            "Connecting to raw.githubusercontent.com (raw.githubusercontent.com)|185.199.108.133|:443... connected.\n",
            "HTTP request sent, awaiting response... 200 OK\n",
            "Length: 519 [text/plain]\n",
            "Saving to: ‘shampoo.csv’\n",
            "\n",
            "shampoo.csv         100%[===================>]     519  --.-KB/s    in 0s      \n",
            "\n",
            "2024-02-15 02:53:55 (22.4 MB/s) - ‘shampoo.csv’ saved [519/519]\n",
            "\n"
          ]
        }
      ]
    },
    {
      "cell_type": "code",
      "source": [
        "file = open(\"sample_data/mnist_test.csv\")"
      ],
      "metadata": {
        "id": "71XmOYpasFH9"
      },
      "execution_count": null,
      "outputs": []
    },
    {
      "cell_type": "code",
      "source": [
        "# look at the hardware configuration of our Colab environment\n",
        "\n",
        "!cat /proc/cpuinfo"
      ],
      "metadata": {
        "colab": {
          "base_uri": "https://localhost:8080/"
        },
        "id": "wvbAMPHVsK3A",
        "outputId": "e4892fd9-66f7-40e8-d63a-59223a75c03a"
      },
      "execution_count": null,
      "outputs": [
        {
          "output_type": "stream",
          "name": "stdout",
          "text": [
            "processor\t: 0\n",
            "vendor_id\t: GenuineIntel\n",
            "cpu family\t: 6\n",
            "model\t\t: 85\n",
            "model name\t: Intel(R) Xeon(R) CPU @ 2.00GHz\n",
            "stepping\t: 3\n",
            "microcode\t: 0xffffffff\n",
            "cpu MHz\t\t: 2000.146\n",
            "cache size\t: 39424 KB\n",
            "physical id\t: 0\n",
            "siblings\t: 2\n",
            "core id\t\t: 0\n",
            "cpu cores\t: 1\n",
            "apicid\t\t: 0\n",
            "initial apicid\t: 0\n",
            "fpu\t\t: yes\n",
            "fpu_exception\t: yes\n",
            "cpuid level\t: 13\n",
            "wp\t\t: yes\n",
            "flags\t\t: fpu vme de pse tsc msr pae mce cx8 apic sep mtrr pge mca cmov pat pse36 clflush mmx fxsr sse sse2 ss ht syscall nx pdpe1gb rdtscp lm constant_tsc rep_good nopl xtopology nonstop_tsc cpuid tsc_known_freq pni pclmulqdq ssse3 fma cx16 pcid sse4_1 sse4_2 x2apic movbe popcnt aes xsave avx f16c rdrand hypervisor lahf_lm abm 3dnowprefetch invpcid_single ssbd ibrs ibpb stibp fsgsbase tsc_adjust bmi1 hle avx2 smep bmi2 erms invpcid rtm mpx avx512f avx512dq rdseed adx smap clflushopt clwb avx512cd avx512bw avx512vl xsaveopt xsavec xgetbv1 xsaves arat md_clear arch_capabilities\n",
            "bugs\t\t: cpu_meltdown spectre_v1 spectre_v2 spec_store_bypass l1tf mds swapgs taa mmio_stale_data retbleed\n",
            "bogomips\t: 4000.29\n",
            "clflush size\t: 64\n",
            "cache_alignment\t: 64\n",
            "address sizes\t: 46 bits physical, 48 bits virtual\n",
            "power management:\n",
            "\n",
            "processor\t: 1\n",
            "vendor_id\t: GenuineIntel\n",
            "cpu family\t: 6\n",
            "model\t\t: 85\n",
            "model name\t: Intel(R) Xeon(R) CPU @ 2.00GHz\n",
            "stepping\t: 3\n",
            "microcode\t: 0xffffffff\n",
            "cpu MHz\t\t: 2000.146\n",
            "cache size\t: 39424 KB\n",
            "physical id\t: 0\n",
            "siblings\t: 2\n",
            "core id\t\t: 0\n",
            "cpu cores\t: 1\n",
            "apicid\t\t: 1\n",
            "initial apicid\t: 1\n",
            "fpu\t\t: yes\n",
            "fpu_exception\t: yes\n",
            "cpuid level\t: 13\n",
            "wp\t\t: yes\n",
            "flags\t\t: fpu vme de pse tsc msr pae mce cx8 apic sep mtrr pge mca cmov pat pse36 clflush mmx fxsr sse sse2 ss ht syscall nx pdpe1gb rdtscp lm constant_tsc rep_good nopl xtopology nonstop_tsc cpuid tsc_known_freq pni pclmulqdq ssse3 fma cx16 pcid sse4_1 sse4_2 x2apic movbe popcnt aes xsave avx f16c rdrand hypervisor lahf_lm abm 3dnowprefetch invpcid_single ssbd ibrs ibpb stibp fsgsbase tsc_adjust bmi1 hle avx2 smep bmi2 erms invpcid rtm mpx avx512f avx512dq rdseed adx smap clflushopt clwb avx512cd avx512bw avx512vl xsaveopt xsavec xgetbv1 xsaves arat md_clear arch_capabilities\n",
            "bugs\t\t: cpu_meltdown spectre_v1 spectre_v2 spec_store_bypass l1tf mds swapgs taa mmio_stale_data retbleed\n",
            "bogomips\t: 4000.29\n",
            "clflush size\t: 64\n",
            "cache_alignment\t: 64\n",
            "address sizes\t: 46 bits physical, 48 bits virtual\n",
            "power management:\n",
            "\n"
          ]
        }
      ]
    },
    {
      "cell_type": "code",
      "source": [
        "# check if we have a GPU attached to the runtime\n",
        "\n",
        "!nvidia-smi"
      ],
      "metadata": {
        "colab": {
          "base_uri": "https://localhost:8080/"
        },
        "id": "GXTIKFDMsS2C",
        "outputId": "dba31334-addf-4ba7-e423-d168c8dfd5e1"
      },
      "execution_count": null,
      "outputs": [
        {
          "output_type": "stream",
          "name": "stdout",
          "text": [
            "Thu Feb 15 02:56:33 2024       \n",
            "+---------------------------------------------------------------------------------------+\n",
            "| NVIDIA-SMI 535.104.05             Driver Version: 535.104.05   CUDA Version: 12.2     |\n",
            "|-----------------------------------------+----------------------+----------------------+\n",
            "| GPU  Name                 Persistence-M | Bus-Id        Disp.A | Volatile Uncorr. ECC |\n",
            "| Fan  Temp   Perf          Pwr:Usage/Cap |         Memory-Usage | GPU-Util  Compute M. |\n",
            "|                                         |                      |               MIG M. |\n",
            "|=========================================+======================+======================|\n",
            "|   0  Tesla T4                       Off | 00000000:00:04.0 Off |                    0 |\n",
            "| N/A   45C    P8              11W /  70W |      0MiB / 15360MiB |      0%      Default |\n",
            "|                                         |                      |                  N/A |\n",
            "+-----------------------------------------+----------------------+----------------------+\n",
            "                                                                                         \n",
            "+---------------------------------------------------------------------------------------+\n",
            "| Processes:                                                                            |\n",
            "|  GPU   GI   CI        PID   Type   Process name                            GPU Memory |\n",
            "|        ID   ID                                                             Usage      |\n",
            "|=======================================================================================|\n",
            "|  No running processes found                                                           |\n",
            "+---------------------------------------------------------------------------------------+\n"
          ]
        }
      ]
    },
    {
      "cell_type": "code",
      "source": [
        "# look at the libraries that the Colab environment has access to\n",
        "\n",
        "!pip list"
      ],
      "metadata": {
        "id": "y6m4wWJttVco"
      },
      "execution_count": null,
      "outputs": []
    },
    {
      "cell_type": "code",
      "source": [
        "# Explore the files in the working directory\n",
        "\n",
        "!ls"
      ],
      "metadata": {
        "id": "fF91wFVhtbax"
      },
      "execution_count": null,
      "outputs": []
    },
    {
      "cell_type": "markdown",
      "source": [
        "Useful Colab Extensions"
      ],
      "metadata": {
        "id": "-V8nzpTuts_L"
      }
    },
    {
      "cell_type": "code",
      "source": [
        "# Mount our Google Drive to our working directory\n",
        "\n",
        "import os\n",
        "from google.colab import drive\n",
        "\n",
        "MOUNTPOINT = \"/content/gdrive\"\n",
        "DATADIR = os.path.join(MOUNTPOINT, \"MyDrive\")\n",
        "drive.mount(MOUNTPOINT)"
      ],
      "metadata": {
        "colab": {
          "base_uri": "https://localhost:8080/"
        },
        "id": "bnKFQIjKtvyr",
        "outputId": "414b032f-8bd4-4006-f3a9-b1f6c0ed934c"
      },
      "execution_count": null,
      "outputs": [
        {
          "output_type": "stream",
          "name": "stdout",
          "text": [
            "Mounted at /content/gdrive\n"
          ]
        }
      ]
    },
    {
      "cell_type": "code",
      "source": [
        "# writes directly to google drive\n",
        "\n",
        "with open(f\"{DATADIR}/test.txt\", \"w\") as outfile:\n",
        "    outfile.write(\"Hello World!\")"
      ],
      "metadata": {
        "id": "Gdd3Ac1AuT1T"
      },
      "execution_count": null,
      "outputs": []
    },
    {
      "cell_type": "code",
      "source": [
        "# Read from a file in our Google Drive\n",
        "\n",
        "with open(f\"{DATADIR}/test.txt\", \"r\") as infile:\n",
        "    file_data = infile.read()\n",
        "    print(file_data)"
      ],
      "metadata": {
        "colab": {
          "base_uri": "https://localhost:8080/"
        },
        "id": "gxQIzmPRuuWr",
        "outputId": "324bb628-c7ec-4d98-bb5f-b8fc69554e3d"
      },
      "execution_count": null,
      "outputs": [
        {
          "output_type": "stream",
          "name": "stdout",
          "text": [
            "Hello World!\n"
          ]
        }
      ]
    },
    {
      "cell_type": "code",
      "source": [
        "%load_ext google.colab.data_table"
      ],
      "metadata": {
        "id": "d2ePJdjXu5eq"
      },
      "execution_count": null,
      "outputs": []
    },
    {
      "cell_type": "code",
      "source": [
        "from sklearn.datasets import fetch_openml\n",
        "X = fetch_openml(\"diabetes\", version=1, as_frame=True, return_X_y=False)[\"frame\"]\n",
        "X"
      ],
      "metadata": {
        "id": "W-B_d5U2u9hp"
      },
      "execution_count": null,
      "outputs": []
    },
    {
      "cell_type": "code",
      "source": [
        "%unload_ext google.colab.data_table"
      ],
      "metadata": {
        "id": "-EWHNzvWvFff"
      },
      "execution_count": null,
      "outputs": []
    },
    {
      "cell_type": "code",
      "source": [
        "import numpy as np\n",
        "import pandas as pd\n",
        "import matplotlib.pyplot as plt\n",
        "\n",
        "# Generate sample data\n",
        "np.random.seed(0)\n",
        "X = 2 * np.random.rand(100, 1)\n",
        "y = 4 + 3 * X + np.random.randn(100, 1)\n",
        "\n",
        "# Create a DataFrame\n",
        "data = pd.DataFrame({'X': X.flatten(), 'y': y.flatten()})\n",
        "\n",
        "# Batch gradient descent for linear regression\n",
        "def batch_gradient_descent(X, y, alpha, num_iterations):\n",
        "    m = len(y)\n",
        "    theta = np.zeros((2, 1))\n",
        "    X_b = np.c_[np.ones((m, 1)), X]\n",
        "    for iteration in range(num_iterations):\n",
        "        gradients = 2/m * X_b.T.dot(X_b.dot(theta) - y)\n",
        "        theta -= alpha * gradients\n",
        "    return theta\n",
        "\n",
        "# Set hyperparameters\n",
        "alpha = 0.01\n",
        "num_iterations = 1000\n",
        "\n",
        "# Train the model\n",
        "theta = batch_gradient_descent(data['X'].values.reshape(-1, 1), data['y'].values.reshape(-1, 1), alpha, num_iterations)\n",
        "\n",
        "# Plot the data and the linear regression model\n",
        "plt.scatter(data['X'], data['y'])\n",
        "plt.plot(data['X'], np.c_[np.ones((100, 1)), data['X'].values.reshape(-1, 1)].dot(theta), color='red', label='Predictions')\n",
        "plt.xlabel('X')\n",
        "plt.ylabel('y')\n",
        "plt.title('Linear Regression with Gradient Descent')\n",
        "plt.legend()\n",
        "plt.show()\n",
        "\n",
        "print(\"Optimal parameters (theta):\")\n",
        "print(theta)\n",
        "\n",
        "# Stochastic gradient descent for linear regression\n",
        "def stochastic_gradient_descent(X, y, alpha, num_iterations):\n",
        "    m, n = X.shape\n",
        "    theta = np.zeros((n, 1))\n",
        "    for iteration in range(num_iterations):\n",
        "        for i in range(m):\n",
        "            random_index = np.random.randint(m)\n",
        "            xi = X[random_index:random_index+1]\n",
        "            yi = y[random_index:random_index+1]\n",
        "            gradients = 2 * xi.T.dot(xi.dot(theta) - yi)\n",
        "            theta -= alpha * gradients\n",
        "    return theta\n",
        "\n",
        "# Set hyperparameters\n",
        "alpha = 0.01\n",
        "num_iterations = 1000\n",
        "\n",
        "# Train the model\n",
        "theta = stochastic_gradient_descent(data['X'].values.reshape(-1, 1), data['y'].values.reshape(-1, 1), alpha, num_iterations)\n",
        "\n",
        "# Plot the data and the linear regression model\n",
        "plt.scatter(data['X'], data['y'])\n",
        "#plt.plot(data['X'], np.c_[np.ones((100, 1)), data['X'].values.reshape(-1, 1)].dot(theta), color='red', label='Predictions')\n",
        "plt.xlabel('X')\n",
        "plt.ylabel('y')\n",
        "plt.title('Linear Regression with Stochastic Gradient Descent')\n",
        "plt.legend()\n",
        "plt.show()\n",
        "\n",
        "print(\"Optimal parameters (theta):\")\n",
        "print(theta)"
      ],
      "metadata": {
        "colab": {
          "base_uri": "https://localhost:8080/",
          "height": 1000
        },
        "id": "7DIu7MigV9Fr",
        "outputId": "1e946362-ed05-4dd9-ea89-50986ee0aab7"
      },
      "execution_count": null,
      "outputs": [
        {
          "output_type": "display_data",
          "data": {
            "text/plain": [
              "<Figure size 640x480 with 1 Axes>"
            ],
            "image/png": "[encoded data removed]"
          },
          "metadata": {}
        },
        {
          "output_type": "stream",
          "name": "stdout",
          "text": [
            "Optimal parameters (theta):\n",
            "[[4.18679917]\n",
            " [2.9998363 ]]\n"
          ]
        },
        {
          "output_type": "stream",
          "name": "stderr",
          "text": [
            "WARNING:matplotlib.legend:No artists with labels found to put in legend.  Note that artists whose label start with an underscore are ignored when legend() is called with no argument.\n"
          ]
        },
        {
          "output_type": "display_data",
          "data": {
            "text/plain": [
              "<Figure size 640x480 with 1 Axes>"
            ],
            "image/png": "[encoded data removed]"
          },
          "metadata": {}
        },
        {
          "output_type": "stream",
          "name": "stdout",
          "text": [
            "Optimal parameters (theta):\n",
            "[[6.53886827]]\n"
          ]
        }
      ]
    },
    {
      "cell_type": "code",
      "source": [
        "import numpy as np\n",
        "import pandas as pd\n",
        "\n",
        "# Generate sample data with 3 input variables and 1 output variable\n",
        "np.random.seed(0)\n",
        "X1 = 2 * np.random.rand(100, 1)\n",
        "X2 = 3 * np.random.rand(100, 1)\n",
        "X3 = 4 * np.random.rand(100, 1)\n",
        "y = 4 + 3*X1 + 2*X2 + 5*X3 + np.random.randn(100, 1)\n",
        "\n",
        "# Create a DataFrame\n",
        "data = pd.DataFrame({'X1': X1.flatten(), 'X2': X2.flatten(), 'X3': X3.flatten(), 'y': y.flatten()})\n",
        "\n",
        "# Linear regression with batch gradient descent\n",
        "def batch_gradient_descent(X, y, alpha, num_iterations):\n",
        "    m, n = X.shape\n",
        "    theta = np.zeros((4, 1))\n",
        "    X_b = np.c_[np.ones((m, 1)), X]\n",
        "    for iteration in range(num_iterations):\n",
        "        gradients = 2/m * X_b.T.dot(X_b.dot(theta) - y)\n",
        "        theta -= alpha * gradients\n",
        "    return theta\n",
        "\n",
        "# Linear regression with stochastic gradient descent\n",
        "def stochastic_gradient_descent(X, y, alpha, num_iterations):\n",
        "    m, n = X.shape\n",
        "    theta = np.zeros((n, 1))\n",
        "    for iteration in range(num_iterations):\n",
        "        for i in range(m):\n",
        "            random_index = np.random.randint(m)\n",
        "            xi = X[random_index:random_index+1]\n",
        "            yi = y[random_index:random_index+1]\n",
        "            gradients = 2 * xi.T.dot(xi.dot(theta) - yi)\n",
        "            theta -= alpha * gradients\n",
        "    return theta\n",
        "\n",
        "# Linear regression with mini-batch gradient descent\n",
        "def mini_batch_gradient_descent(X, y, alpha, batch_size, num_iterations):\n",
        "    m, n = X.shape\n",
        "    theta = np.zeros((n, 1))\n",
        "    for iteration in range(num_iterations):\n",
        "        for j in range(0, m, batch_size):\n",
        "            X_batch = X[j:j+batch_size]\n",
        "            y_batch = y[j:j+batch_size]\n",
        "            gradients = 2/batch_size * X_batch.T.dot(X_batch.dot(theta) - y_batch)\n",
        "            theta -= alpha * gradients\n",
        "    return theta\n",
        "\n",
        "# Split features and target variable\n",
        "X = data[['X1', 'X2', 'X3']].values\n",
        "y = data['y'].values.reshape(-1, 1)\n",
        "\n",
        "# Set hyperparameters\n",
        "alpha = 0.01\n",
        "num_iterations = 1000\n",
        "batch_size = 10\n",
        "\n",
        "# Train the models\n",
        "theta_batch = batch_gradient_descent(X, y, alpha, num_iterations)\n",
        "theta_stochastic = stochastic_gradient_descent(X, y, alpha, num_iterations)\n",
        "theta_mini_batch = mini_batch_gradient_descent(X, y, alpha, batch_size, num_iterations)\n",
        "\n",
        "# Compute the MSE for each model\n",
        "def mean_squared_error(y_true, y_pred):\n",
        "    return np.mean((y_true - y_pred) ** 2)\n",
        "\n",
        "X_b = np.c_[np.ones((100, 1)), X]\n",
        "y_pred_batch = X_b.dot(theta_batch)\n",
        "X_b = np.c_[np.ones((100, 1)), X[:, 1:]]  # Exclude the bias term from X_b\n",
        "y_pred_stochastic = X_b.dot(theta_stochastic)\n",
        "y_pred_mini_batch = X_b.dot(theta_mini_batch)\n",
        "\n",
        "mse_batch = mean_squared_error(y, y_pred_batch)\n",
        "mse_stochastic = mean_squared_error(y, y_pred_stochastic)\n",
        "mse_mini_batch = mean_squared_error(y, y_pred_mini_batch)\n",
        "\n",
        "print(\"Mean Squared Error (Batch Gradient Descent):\", mse_batch)\n",
        "print(\"Mean Squared Error (Stochastic Gradient Descent):\", mse_stochastic)\n",
        "print(\"Mean Squared Error (Mini-Batch Gradient Descent):\", mse_mini_batch)\n"
      ],
      "metadata": {
        "colab": {
          "base_uri": "https://localhost:8080/"
        },
        "id": "Ui1qrKOyWPus",
        "outputId": "856aeff2-1aba-4621-9b86-fe01f1a19ff2"
      },
      "execution_count": null,
      "outputs": [
        {
          "output_type": "stream",
          "name": "stdout",
          "text": [
            "Mean Squared Error (Batch Gradient Descent): 0.8542312474585627\n",
            "Mean Squared Error (Stochastic Gradient Descent): 5.100042184974268\n",
            "Mean Squared Error (Mini-Batch Gradient Descent): 4.636126039504876\n"
          ]
        }
      ]
    },
    {
      "cell_type": "code",
      "source": [
        "theta_batch"
      ],
      "metadata": {
        "colab": {
          "base_uri": "https://localhost:8080/"
        },
        "id": "E5bHOUFPbyo8",
        "outputId": "1f89e289-0d87-4fc5-f177-c925f76140ff"
      },
      "execution_count": null,
      "outputs": [
        {
          "output_type": "execute_result",
          "data": {
            "text/plain": [
              "array([[3.76991612],\n",
              "       [2.85782857],\n",
              "       [1.96717981],\n",
              "       [5.12307884]])"
            ]
          },
          "metadata": {},
          "execution_count": 26
        }
      ]
    },
    {
      "cell_type": "code",
      "source": [
        "import numpy as np\n",
        "import pandas as pd\n",
        "from sklearn.preprocessing import StandardScaler\n",
        "\n",
        "# Generate sample data with 3 input variables and 1 output variable\n",
        "np.random.seed(0)\n",
        "X1 = 2 * np.random.rand(100, 1)\n",
        "X2 = 3 * np.random.rand(100, 1)\n",
        "X3 = 4 * np.random.rand(100, 1)\n",
        "y = 4 + 3*X1 + 2*X2 + 5*X3 + np.random.randn(100, 1)\n",
        "\n",
        "# Create a DataFrame\n",
        "data = pd.DataFrame({'X1': X1.flatten(), 'X2': X2.flatten(), 'X3': X3.flatten(), 'y': y.flatten()})\n",
        "\n",
        "# Standardize the features\n",
        "scaler = StandardScaler()\n",
        "X_scaled = scaler.fit_transform(data[['X1', 'X2', 'X3']])\n",
        "\n",
        "# Split features and target variable\n",
        "y = data['y'].values.reshape(-1, 1)\n",
        "\n",
        "# Set hyperparameters\n",
        "alpha = 0.01\n",
        "num_iterations = 1000\n",
        "batch_size = 10\n",
        "\n",
        "# Define the gradient descent algorithms (using the corrected versions)\n",
        "theta_batch = batch_gradient_descent(X_scaled, y, alpha, num_iterations)\n",
        "theta_stochastic = stochastic_gradient_descent(X_scaled, y, alpha, num_iterations)\n",
        "theta_mini_batch = mini_batch_gradient_descent(X_scaled, y, alpha, batch_size, num_iterations)\n",
        "\n",
        "# Compute the MSE for each model\n",
        "X_b = np.c_[np.ones((100, 1)), X_scaled]\n",
        "y_pred_batch = X_b.dot(theta_batch)\n",
        "X_b = np.c_[np.ones((100, 1)), X[:, 1:]]  # Exclude the bias term from X_b\n",
        "y_pred_stochastic = X_b.dot(theta_stochastic)\n",
        "y_pred_mini_batch = X_b.dot(theta_mini_batch)\n",
        "\n",
        "mse_batch = mean_squared_error(y, y_pred_batch)\n",
        "mse_stochastic = mean_squared_error(y, y_pred_stochastic)\n",
        "mse_mini_batch = mean_squared_error(y, y_pred_mini_batch)\n",
        "\n",
        "print(\"Mean Squared Error (Batch Gradient Descent):\", mse_batch)\n",
        "print(\"Mean Squared Error (Stochastic Gradient Descent):\", mse_stochastic)\n",
        "print(\"Mean Squared Error (Mini-Batch Gradient Descent):\", mse_mini_batch)\n"
      ],
      "metadata": {
        "colab": {
          "base_uri": "https://localhost:8080/"
        },
        "id": "y75IuPcJcUie",
        "outputId": "d03792d0-2b1d-42b0-9c8e-2d19ab35d5a6"
      },
      "execution_count": null,
      "outputs": [
        {
          "output_type": "stream",
          "name": "stdout",
          "text": [
            "Mean Squared Error (Batch Gradient Descent): 0.8365287716025956\n",
            "Mean Squared Error (Stochastic Gradient Descent): 139.95661390599153\n",
            "Mean Squared Error (Mini-Batch Gradient Descent): 22.31075830000421\n"
          ]
        }
      ]
    },
    {
      "cell_type": "code",
      "source": [
        "theta_batch"
      ],
      "metadata": {
        "id": "EUeDkH_Kcdb-",
        "outputId": "c50a4d22-4846-4106-c96a-019165068c4e",
        "colab": {
          "base_uri": "https://localhost:8080/"
        }
      },
      "execution_count": null,
      "outputs": [
        {
          "output_type": "execute_result",
          "data": {
            "text/plain": [
              "array([[20.06558249],\n",
              "       [ 1.56725854],\n",
              "       [ 1.54568791],\n",
              "       [ 6.10839602]])"
            ]
          },
          "metadata": {},
          "execution_count": 29
        }
      ]
    }
  ]
}